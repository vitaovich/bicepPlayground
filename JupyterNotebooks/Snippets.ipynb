{
 "cells": [
  {
   "cell_type": "code",
   "execution_count": 1,
   "id": "c1eefa20-d8e1-4189-a8d0-13bc00b94cd8",
   "metadata": {},
   "outputs": [
    {
     "data": {
      "text/plain": [
       "{'id': 'b079ce8c-8622-4f63-94cb-6350274d59b7', 'name': 'hello world'}"
      ]
     },
     "execution_count": 1,
     "metadata": {},
     "output_type": "execute_result"
    }
   ],
   "source": [
    "import uuid\n",
    "\n",
    "name = 'hello world'\n",
    "new_id = uuid.uuid4()\n",
    "new_name = {'id': str(new_id),'name': str(name)}\n",
    "new_name"
   ]
  },
  {
   "cell_type": "code",
   "execution_count": null,
   "id": "375bbf90-7daa-4682-b8dc-b6112b99996d",
   "metadata": {},
   "outputs": [],
   "source": []
  }
 ],
 "metadata": {
  "kernelspec": {
   "display_name": "Conda (my_jupyterlab_env)",
   "language": "python",
   "name": "my_jupyterlab_env"
  },
  "language_info": {
   "codemirror_mode": {
    "name": "ipython",
    "version": 3
   },
   "file_extension": ".py",
   "mimetype": "text/x-python",
   "name": "python",
   "nbconvert_exporter": "python",
   "pygments_lexer": "ipython3",
   "version": "3.8.18"
  }
 },
 "nbformat": 4,
 "nbformat_minor": 5
}
