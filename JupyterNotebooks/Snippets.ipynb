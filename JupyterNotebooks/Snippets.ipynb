{
 "cells": [
  {
   "cell_type": "code",
   "execution_count": 8,
   "id": "c1eefa20-d8e1-4189-a8d0-13bc00b94cd8",
   "metadata": {},
   "outputs": [
    {
     "data": {
      "text/plain": [
       "{'id': '2fcea5a2-8921-4a9d-9653-9fac36f75cf1', 'name': 'hello world'}"
      ]
     },
     "execution_count": 8,
     "metadata": {},
     "output_type": "execute_result"
    }
   ],
   "source": [
    "import uuid\n",
    "\n",
    "name = 'hello world'\n",
    "new_id = uuid.uuid4()\n",
    "new_name = {'id': str(new_id),'name': str(name)}\n",
    "new_name"
   ]
  },
  {
   "cell_type": "code",
   "execution_count": 42,
   "id": "375bbf90-7daa-4682-b8dc-b6112b99996d",
   "metadata": {},
   "outputs": [
    {
     "data": {
      "text/plain": [
       "<azure.storage.blob._blob_service_client.BlobServiceClient at 0x7fffd30c9580>"
      ]
     },
     "execution_count": 42,
     "metadata": {},
     "output_type": "execute_result"
    }
   ],
   "source": [
    "import os, uuid\n",
    "from azure.identity import DefaultAzureCredential\n",
    "from azure.storage.blob import BlobServiceClient, BlobClient, ContainerClient, UserDelegationKey, generate_container_sas, ContainerSasPermissions\n",
    "import datetime\n",
    "\n",
    "account_url = \"https://vikpwnywivhg2models.blob.core.windows.net\"\n",
    "container_name = \"modified-vikpwnywivhg2\"\n",
    "default_credential = DefaultAzureCredential()\n",
    "\n",
    "# Create the BlobServiceClient object\n",
    "blob_service_client = BlobServiceClient(account_url, credential=default_credential)\n",
    "blob_service_client"
   ]
  },
  {
   "cell_type": "code",
   "execution_count": 32,
   "id": "ae099b41-dbce-4686-a81d-85d0c076c544",
   "metadata": {},
   "outputs": [
    {
     "data": {
      "text/plain": [
       "{'name': 'modified-vikpwnywivhg2', 'last_modified': datetime.datetime(2023, 12, 24, 20, 19, 17, tzinfo=datetime.timezone.utc), 'etag': '\"0x8DC04BD9AC2AE93\"', 'lease': {'status': 'unlocked', 'state': 'available', 'duration': None}, 'public_access': None, 'has_immutability_policy': False, 'deleted': None, 'version': None, 'has_legal_hold': False, 'metadata': {}, 'encryption_scope': <azure.storage.blob._models.ContainerEncryptionScope object at 0x7fffd31ad3d0>, 'immutable_storage_with_versioning_enabled': False}"
      ]
     },
     "execution_count": 32,
     "metadata": {},
     "output_type": "execute_result"
    }
   ],
   "source": [
    "container_client = blob_service_client.get_container_client(container=container_name)\n",
    "container_client.get_container_properties()\n"
   ]
  },
  {
   "cell_type": "code",
   "execution_count": 36,
   "id": "417918bd-6256-4bf9-ac95-cc2e607d72cb",
   "metadata": {},
   "outputs": [],
   "source": [
    "def request_user_delegation_key(blob_service_client: BlobServiceClient) -> UserDelegationKey:\n",
    "    # Get a user delegation key that's valid for 1 day\n",
    "    delegation_key_start_time = datetime.datetimedef create_user_delegation_sas_container(self, container_client: ContainerClient, user_delegation_key: UserDelegationKey):\n",
    "    # Create a SAS token that's valid for one day, as an example\n",
    "    start_time = datetime.datetime.now(datetime.timezone.utc)\n",
    "    expiry_time = start_time + datetime.timedelta(days=1)\n",
    "\n",
    "    sas_token = generate_container_sas(\n",
    "        account_name=container_client.account_name,\n",
    "        container_name=container_client.container_name,\n",
    "        user_delegation_key=user_delegation_key,\n",
    "        permission=ContainerSasPermissions(read=True),\n",
    "        expiry=expiry_time,\n",
    "        start=start_time\n",
    "    )\n",
    "\n",
    "    return sas_token.now(datetime.timezone.utc)\n",
    "    delegation_key_expiry_time = delegation_key_start_time + datetime.timedelta(days=1)\n",
    "\n",
    "    user_delegation_key = blob_service_client.get_user_delegation_key(\n",
    "        key_start_time=delegation_key_start_time,\n",
    "        key_expiry_time=delegation_key_expiry_time\n",
    "    )\n",
    "\n",
    "    return user_delegation_key"
   ]
  },
  {
   "cell_type": "code",
   "execution_count": 47,
   "id": "d6217013-ef6c-4e9e-9012-8a38ed7f94f3",
   "metadata": {},
   "outputs": [],
   "source": [
    "def create_user_delegation_sas_container(container_client: ContainerClient, user_delegation_key: UserDelegationKey):\n",
    "    # Create a SAS token that's valid for one day, as an example\n",
    "    start_time = datetime.datetime.now(datetime.timezone.utc)\n",
    "    expiry_time = start_time + datetime.timedelta(hours=1)\n",
    "\n",
    "    sas_token = generate_container_sas(\n",
    "        account_name=container_client.account_name,\n",
    "        container_name=container_client.container_name,\n",
    "        user_delegation_key=user_delegation_key,\n",
    "        permission=ContainerSasPermissions(read=True, list=True),\n",
    "        expiry=expiry_time,\n",
    "        start=start_time\n",
    "    )\n",
    "\n",
    "    return sas_token"
   ]
  },
  {
   "cell_type": "code",
   "execution_count": 48,
   "id": "1b1ec110-febe-4254-ab8f-77b4f119ae9c",
   "metadata": {},
   "outputs": [
    {
     "data": {
      "text/plain": [
       "<azure.storage.blob._shared.models.UserDelegationKey at 0x7fffd2e8af70>"
      ]
     },
     "execution_count": 48,
     "metadata": {},
     "output_type": "execute_result"
    }
   ],
   "source": [
    "user_delegation_key = request_user_delegation_key(blob_service_client)\n",
    "user_delegation_key"
   ]
  },
  {
   "cell_type": "code",
   "execution_count": 49,
   "id": "52668d09-42ef-4126-9770-2c2d89b19d15",
   "metadata": {},
   "outputs": [
    {
     "data": {
      "text/plain": [
       "'st=2023-12-24T21%3A37%3A10Z&se=2023-12-24T22%3A37%3A10Z&sp=rl&sv=2023-11-03&sr=c&skoid=b57b8480-78cd-4a24-bb01-c9ec1ff4d5e2&sktid=8103a899-c0d2-44bf-bf1d-0580a25bcb7c&skt=2023-12-24T21%3A37%3A08Z&ske=2023-12-25T21%3A37%3A08Z&sks=b&skv=2023-11-03&sig=2cA2h/NK3elYykivfM5U2mCtscCn1eDa31mrNl%2BH/A4%3D'"
      ]
     },
     "execution_count": 49,
     "metadata": {},
     "output_type": "execute_result"
    }
   ],
   "source": [
    "sas_token = create_user_delegation_sas_container(container_client, user_delegation_key)\n",
    "sas_token"
   ]
  },
  {
   "cell_type": "code",
   "execution_count": 50,
   "id": "8f6a1f31-7f21-480a-8042-40891184af7d",
   "metadata": {},
   "outputs": [
    {
     "data": {
      "text/plain": [
       "'https://vikpwnywivhg2models.blob.core.windows.net/modified-vikpwnywivhg2?st=2023-12-24T21%3A37%3A10Z&se=2023-12-24T22%3A37%3A10Z&sp=rl&sv=2023-11-03&sr=c&skoid=b57b8480-78cd-4a24-bb01-c9ec1ff4d5e2&sktid=8103a899-c0d2-44bf-bf1d-0580a25bcb7c&skt=2023-12-24T21%3A37%3A08Z&ske=2023-12-25T21%3A37%3A08Z&sks=b&skv=2023-11-03&sig=2cA2h/NK3elYykivfM5U2mCtscCn1eDa31mrNl%2BH/A4%3D'"
      ]
     },
     "execution_count": 50,
     "metadata": {},
     "output_type": "execute_result"
    }
   ],
   "source": [
    "sas_url = f\"{container_client.url}?{sas_token}\"\n",
    "sas_url"
   ]
  },
  {
   "cell_type": "code",
   "execution_count": 51,
   "id": "3cedfa63-1b4d-4046-b8b5-458c651cd531",
   "metadata": {},
   "outputs": [],
   "source": [
    "container_client_sas = ContainerClient.from_container_url(container_url=sas_url)"
   ]
  },
  {
   "cell_type": "code",
   "execution_count": 52,
   "id": "16cb91c2-feb7-44b9-bb99-002ee246595a",
   "metadata": {},
   "outputs": [
    {
     "data": {
      "text/plain": [
       "['5fe9a991-34f3-409a-a6d5-376dcf875493.json',\n",
       " 'ea22ec66-5a52-4da1-be92-d10330a1360d.json']"
      ]
     },
     "execution_count": 52,
     "metadata": {},
     "output_type": "execute_result"
    }
   ],
   "source": [
    "blob_names = list(container_client_sas.list_blob_names())\n",
    "blob_names"
   ]
  },
  {
   "cell_type": "code",
   "execution_count": null,
   "id": "73394312-db1f-4bed-b6be-74578e1a1240",
   "metadata": {},
   "outputs": [],
   "source": []
  }
 ],
 "metadata": {
  "kernelspec": {
   "display_name": "Conda (my_jupyterlab_env)",
   "language": "python",
   "name": "my_jupyterlab_env"
  },
  "language_info": {
   "codemirror_mode": {
    "name": "ipython",
    "version": 3
   },
   "file_extension": ".py",
   "mimetype": "text/x-python",
   "name": "python",
   "nbconvert_exporter": "python",
   "pygments_lexer": "ipython3",
   "version": "3.8.18"
  }
 },
 "nbformat": 4,
 "nbformat_minor": 5
}
